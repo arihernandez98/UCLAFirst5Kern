{
 "cells": [
  {
   "cell_type": "code",
   "execution_count": 1,
   "id": "5ec63c4b-76a4-4d82-be08-5a02a6b4198d",
   "metadata": {},
   "outputs": [
    {
     "name": "stderr",
     "output_type": "stream",
     "text": [
      "/opt/conda/lib/python3.9/site-packages/geopandas/_compat.py:106: UserWarning: The Shapely GEOS version (3.9.1-CAPI-1.14.2) is incompatible with the GEOS version PyGEOS was compiled with (3.10.1-CAPI-1.16.0). Conversions between both will be slow.\n",
      "  warnings.warn(\n"
     ]
    }
   ],
   "source": [
    "import pandas as pd\n",
    "import geopandas as gpd\n",
    "import contextily as ctx\n",
    "import matplotlib.pyplot as plt\n",
    "import plotly.express as px"
   ]
  },
  {
   "cell_type": "code",
   "execution_count": 3,
   "id": "727c451c-ba1e-4bfb-8e69-2c60ce75c138",
   "metadata": {},
   "outputs": [],
   "source": [
    "sr = gpd.read_file('SurveyResponse_Combined.csv')"
   ]
  },
  {
   "cell_type": "code",
   "execution_count": 4,
   "id": "26fcdb4e-e651-410c-a83e-d10164877a1b",
   "metadata": {
    "collapsed": true,
    "jupyter": {
     "outputs_hidden": true
    },
    "tags": []
   },
   "outputs": [
    {
     "name": "stdout",
     "output_type": "stream",
     "text": [
      "<class 'geopandas.geodataframe.GeoDataFrame'>\n",
      "RangeIndex: 156 entries, 0 to 155\n",
      "Data columns (total 95 columns):\n",
      " #   Column                      Non-Null Count  Dtype   \n",
      "---  ------                      --------------  -----   \n",
      " 0   StartDate                   156 non-null    object  \n",
      " 1   EndDate                     156 non-null    object  \n",
      " 2   Status                      156 non-null    object  \n",
      " 3   IPAddress                   156 non-null    object  \n",
      " 4   Progress                    156 non-null    object  \n",
      " 5   Duration (in seconds)       156 non-null    object  \n",
      " 6   Finished                    156 non-null    object  \n",
      " 7   RecordedDate                156 non-null    object  \n",
      " 8   ResponseId                  156 non-null    object  \n",
      " 9   LocationLatitude            156 non-null    object  \n",
      " 10  LocationLongitude           156 non-null    object  \n",
      " 11  DistributionChannel         156 non-null    object  \n",
      " 12  UserLanguage                156 non-null    object  \n",
      " 13  Q_RecaptchaScore            156 non-null    object  \n",
      " 14  Q_RelevantIDDuplicate       156 non-null    object  \n",
      " 15  Q_RelevantIDDuplicateScore  156 non-null    object  \n",
      " 16  Q_RelevantIDFraudScore      156 non-null    object  \n",
      " 17  Q_RelevantIDLastStartDate   156 non-null    object  \n",
      " 18  Q42                         156 non-null    object  \n",
      " 19  Q42_1_TEXT                  156 non-null    object  \n",
      " 20  Q1                          156 non-null    object  \n",
      " 21  Q1_2_TEXT                   156 non-null    object  \n",
      " 22  Q1_3_TEXT                   156 non-null    object  \n",
      " 23  Q46                         156 non-null    object  \n",
      " 24  Q2                          156 non-null    object  \n",
      " 25  Q3                          156 non-null    object  \n",
      " 26  Q3_4_TEXT                   156 non-null    object  \n",
      " 27  Q4                          156 non-null    object  \n",
      " 28  Q4_1_TEXT                   156 non-null    object  \n",
      " 29  Q4_2_TEXT                   156 non-null    object  \n",
      " 30  Q6                          156 non-null    object  \n",
      " 31  Q7                          156 non-null    object  \n",
      " 32  Q8                          156 non-null    object  \n",
      " 33  Q8_2_TEXT                   156 non-null    object  \n",
      " 34  Q9                          156 non-null    object  \n",
      " 35  Q9_7_TEXT                   156 non-null    object  \n",
      " 36  Q38                         156 non-null    object  \n",
      " 37  Q43                         156 non-null    object  \n",
      " 38  Q10                         156 non-null    object  \n",
      " 39  Q11                         156 non-null    object  \n",
      " 40  Q12                         156 non-null    object  \n",
      " 41  Q13                         156 non-null    object  \n",
      " 42  Q13_4_TEXT                  156 non-null    object  \n",
      " 43  Q14                         156 non-null    object  \n",
      " 44  Q15_1_1                     156 non-null    object  \n",
      " 45  Q15_1_2                     156 non-null    object  \n",
      " 46  Q15_2_1                     156 non-null    object  \n",
      " 47  Q15_2_2                     156 non-null    object  \n",
      " 48  Q15_3_1                     156 non-null    object  \n",
      " 49  Q15_3_2                     156 non-null    object  \n",
      " 50  Q15_4_1                     156 non-null    object  \n",
      " 51  Q15_4_2                     156 non-null    object  \n",
      " 52  Q15_5_TEXT                  156 non-null    object  \n",
      " 53  Q15_5_1                     156 non-null    object  \n",
      " 54  Q15_5_2                     156 non-null    object  \n",
      " 55  Q16                         156 non-null    object  \n",
      " 56  Q16_5_TEXT                  156 non-null    object  \n",
      " 57  Q17                         156 non-null    object  \n",
      " 58  Q18                         156 non-null    object  \n",
      " 59  Q18_6_TEXT                  156 non-null    object  \n",
      " 60  Q19_1                       156 non-null    object  \n",
      " 61  Q19_2                       156 non-null    object  \n",
      " 62  Q19_3                       156 non-null    object  \n",
      " 63  Q19_4                       156 non-null    object  \n",
      " 64  Q19_5                       156 non-null    object  \n",
      " 65  Q20                         156 non-null    object  \n",
      " 66  Q21                         156 non-null    object  \n",
      " 67  Q21_3_TEXT                  156 non-null    object  \n",
      " 68  Q22                         156 non-null    object  \n",
      " 69  Q23                         156 non-null    object  \n",
      " 70  Q24                         156 non-null    object  \n",
      " 71  Q25                         156 non-null    object  \n",
      " 72  Q26                         156 non-null    object  \n",
      " 73  Q26_2_TEXT                  156 non-null    object  \n",
      " 74  Q27                         156 non-null    object  \n",
      " 75  Q27_2_TEXT                  156 non-null    object  \n",
      " 76  Q29                         156 non-null    object  \n",
      " 77  Q30                         156 non-null    object  \n",
      " 78  Q31                         156 non-null    object  \n",
      " 79  Q32_1                       156 non-null    object  \n",
      " 80  Q32_2                       156 non-null    object  \n",
      " 81  Q32_3                       156 non-null    object  \n",
      " 82  Q32_4                       156 non-null    object  \n",
      " 83  Q32_5                       156 non-null    object  \n",
      " 84  Q32_6                       156 non-null    object  \n",
      " 85  Q32_7                       156 non-null    object  \n",
      " 86  Q32_7_TEXT                  156 non-null    object  \n",
      " 87  Q33                         156 non-null    object  \n",
      " 88  Q34                         156 non-null    object  \n",
      " 89  Q34_12_TEXT                 156 non-null    object  \n",
      " 90  Q34_13_TEXT                 156 non-null    object  \n",
      " 91  Q34_14_TEXT                 156 non-null    object  \n",
      " 92  Q35                         156 non-null    object  \n",
      " 93  Q35_1_TEXT                  156 non-null    object  \n",
      " 94  geometry                    0 non-null      geometry\n",
      "dtypes: geometry(1), object(94)\n",
      "memory usage: 115.9+ KB\n"
     ]
    }
   ],
   "source": [
    "sr.info()"
   ]
  },
  {
   "cell_type": "code",
   "execution_count": 5,
   "id": "b632e412-c3ff-4583-b852-42147bea82b1",
   "metadata": {},
   "outputs": [],
   "source": [
    "sr=sr.drop(columns=['StartDate', 'EndDate','Status','IPAddress','Progress','Duration (in seconds)','Finished','RecordedDate','ResponseId','DistributionChannel','Q_RecaptchaScore','Q_RelevantIDDuplicate','Q_RelevantIDDuplicateScore','Q_RelevantIDFraudScore','Q_RelevantIDLastStartDate'])"
   ]
  },
  {
   "cell_type": "code",
   "execution_count": 6,
   "id": "1418ed18-5aa0-426a-8102-9b43fc91d64b",
   "metadata": {},
   "outputs": [],
   "source": [
    "sr=sr.drop([0])"
   ]
  },
  {
   "cell_type": "code",
   "execution_count": 7,
   "id": "96e79dfe-0ea9-4f73-a55f-c11b9c42881d",
   "metadata": {},
   "outputs": [],
   "source": [
    "sr.rename(columns = {'LocationLatitude':'LAT', 'LocationLongitude': 'LON','UserLanguage':'Language','Q42':'Parent','Q42_1_TEXT':'Parent_SR','Q1':'Primary','Q1_2_TEXT':'Primary_SR1', 'Q1_3_TEXT':'Primary_SR2','Q46':'Email_1','Q2':'Age', 'Q3': 'Sex', 'Q3_4_TEXT':'Sex_SR','Q4':'NuminHH','Q4_1_TEXT':'NuminHH_Adult','Q4_2_TEXT':'NuminHH_Child','Q6':'City', 'Q7':'Zip','Q8':'Country','Q8_2_TEXT':'Country_SR', 'Q9':'Raceeth','Q9_7_TEXT':'Raceeth_SR','Q38':'Income','Q43':'Occup','Q10':'Dwell','Q11':'Residence','Q12':'Well','Q13':'PrimDW','Q13_4_TEXT':'PrimDW_SR','Q14':'TapTreat','Q15_1_1':'Bottle_Amt','Q15_1_2':'Bottle_Cost','Q15_2_1':'Pack_Amt','Q15_2_2':'Pack_Cost','Q15_3_1':'Gallon_Amt', 'Q15_3_2':'Gallon_Cost','Q15_4_1':'Refill_Amt','Q15_4_2':'Refill_Cost','Q15_5_TEXT':'Other_SR','Q15_5_1':'Other_Amt','Q15_5_2':'Other_Cost','Q16': 'TapTrust','Q16_5_TEXT':'TapTrust_SR','Q17':'TapSafe','Q18':'Source','Q18_6_TEXT':'Source_SR','Q19_1':'WQ_Park','Q19_2':'WQ_Faucet','Q19_3':'WQ_Counter','Q19_4':'WQ_Sink','Q19_5':'WQ_Test','Q20': 'Afford','Q21':'LangOE','Q21_3_TEXT':'LangOE_SR','Q22':'InUS','Q23':'OutUS','Q24':'Apply','Q25':'BadExp','Q26':'HealthProb','Q26_2_TEXT':'HealthProb_SR', 'Q27':'NegCom','Q27_2_TEXT':'NegCom_SR','Q29':'SSBConsum','Q30':'SSBTax', 'Q31':'Tax_Att','Q32_1':'Tax_Rank1','Q32_2':'Tax_Rank2','Q32_3':'Tax_Rank3', 'Q32_4':'Tax_Rank4','Q32_5':'Tax_Rank5','Q32_6': 'Tax_Rank6','Q32_7':'Tax_Rank7','Q32_7_TEXT':'Tax_Rank7_SR','Q33':'TaxSupp','Q34':'Filter', 'Q34_12_TEXT':'Filter_Email','Q34_13_TEXT':'Filter_Phone', 'Q34_14_TEXT':'Filter_No','Q35':'Email','Q35_1_TEXT':'Email_SR'}, inplace = True)"
   ]
  },
  {
   "cell_type": "code",
   "execution_count": 8,
   "id": "05c6cefe-b630-4dd4-b4a5-c03a1f43568b",
   "metadata": {
    "collapsed": true,
    "jupyter": {
     "outputs_hidden": true
    },
    "tags": []
   },
   "outputs": [
    {
     "name": "stdout",
     "output_type": "stream",
     "text": [
      "<class 'geopandas.geodataframe.GeoDataFrame'>\n",
      "Int64Index: 155 entries, 1 to 155\n",
      "Data columns (total 80 columns):\n",
      " #   Column         Non-Null Count  Dtype   \n",
      "---  ------         --------------  -----   \n",
      " 0   LAT            155 non-null    object  \n",
      " 1   LON            155 non-null    object  \n",
      " 2   Language       155 non-null    object  \n",
      " 3   Parent         155 non-null    object  \n",
      " 4   Parent_SR      155 non-null    object  \n",
      " 5   Primary        155 non-null    object  \n",
      " 6   Primary_SR1    155 non-null    object  \n",
      " 7   Primary_SR2    155 non-null    object  \n",
      " 8   Email_1        155 non-null    object  \n",
      " 9   Age            155 non-null    object  \n",
      " 10  Sex            155 non-null    object  \n",
      " 11  Sex_SR         155 non-null    object  \n",
      " 12  NuminHH        155 non-null    object  \n",
      " 13  NuminHH_Adult  155 non-null    object  \n",
      " 14  NuminHH_Child  155 non-null    object  \n",
      " 15  City           155 non-null    object  \n",
      " 16  Zip            155 non-null    object  \n",
      " 17  Country        155 non-null    object  \n",
      " 18  Country_SR     155 non-null    object  \n",
      " 19  Raceeth        155 non-null    object  \n",
      " 20  Raceeth_SR     155 non-null    object  \n",
      " 21  Income         155 non-null    object  \n",
      " 22  Occup          155 non-null    object  \n",
      " 23  Dwell          155 non-null    object  \n",
      " 24  Residence      155 non-null    object  \n",
      " 25  Well           155 non-null    object  \n",
      " 26  PrimDW         155 non-null    object  \n",
      " 27  PrimDW_SR      155 non-null    object  \n",
      " 28  TapTreat       155 non-null    object  \n",
      " 29  Bottle_Amt     155 non-null    object  \n",
      " 30  Bottle_Cost    155 non-null    object  \n",
      " 31  Pack_Amt       155 non-null    object  \n",
      " 32  Pack_Cost      155 non-null    object  \n",
      " 33  Gallon_Amt     155 non-null    object  \n",
      " 34  Gallon_Cost    155 non-null    object  \n",
      " 35  Refill_Amt     155 non-null    object  \n",
      " 36  Refill_Cost    155 non-null    object  \n",
      " 37  Other_SR       155 non-null    object  \n",
      " 38  Other_Amt      155 non-null    object  \n",
      " 39  Other_Cost     155 non-null    object  \n",
      " 40  TapTrust       155 non-null    object  \n",
      " 41  TapTrust_SR    155 non-null    object  \n",
      " 42  TapSafe        155 non-null    object  \n",
      " 43  Source         155 non-null    object  \n",
      " 44  Source_SR      155 non-null    object  \n",
      " 45  WQ_Park        155 non-null    object  \n",
      " 46  WQ_Faucet      155 non-null    object  \n",
      " 47  WQ_Counter     155 non-null    object  \n",
      " 48  WQ_Sink        155 non-null    object  \n",
      " 49  WQ_Test        155 non-null    object  \n",
      " 50  Afford         155 non-null    object  \n",
      " 51  LangOE         155 non-null    object  \n",
      " 52  LangOE_SR      155 non-null    object  \n",
      " 53  InUS           155 non-null    object  \n",
      " 54  OutUS          155 non-null    object  \n",
      " 55  Apply          155 non-null    object  \n",
      " 56  BadExp         155 non-null    object  \n",
      " 57  HealthProb     155 non-null    object  \n",
      " 58  HealthProb_SR  155 non-null    object  \n",
      " 59  NegCom         155 non-null    object  \n",
      " 60  NegCom_SR      155 non-null    object  \n",
      " 61  SSBConsum      155 non-null    object  \n",
      " 62  SSBTax         155 non-null    object  \n",
      " 63  Tax_Att        155 non-null    object  \n",
      " 64  Tax_Rank1      155 non-null    object  \n",
      " 65  Tax_Rank2      155 non-null    object  \n",
      " 66  Tax_Rank3      155 non-null    object  \n",
      " 67  Tax_Rank4      155 non-null    object  \n",
      " 68  Tax_Rank5      155 non-null    object  \n",
      " 69  Tax_Rank6      155 non-null    object  \n",
      " 70  Tax_Rank7      155 non-null    object  \n",
      " 71  Tax_Rank7_SR   155 non-null    object  \n",
      " 72  TaxSupp        155 non-null    object  \n",
      " 73  Filter         155 non-null    object  \n",
      " 74  Filter_Email   155 non-null    object  \n",
      " 75  Filter_Phone   155 non-null    object  \n",
      " 76  Filter_No      155 non-null    object  \n",
      " 77  Email          155 non-null    object  \n",
      " 78  Email_SR       155 non-null    object  \n",
      " 79  geometry       0 non-null      geometry\n",
      "dtypes: geometry(1), object(79)\n",
      "memory usage: 98.1+ KB\n"
     ]
    }
   ],
   "source": [
    "sr.info()"
   ]
  },
  {
   "cell_type": "code",
   "execution_count": 15,
   "id": "3a774328-87db-4fdd-9038-05ce1e116a4e",
   "metadata": {},
   "outputs": [],
   "source": [
    "malesr = sr.query('Sex ==\"Male\"')"
   ]
  },
  {
   "cell_type": "markdown",
   "id": "2f55cfdc-34df-4abe-a646-72d29d42288c",
   "metadata": {},
   "source": [
    "*  to look only at the male responses"
   ]
  },
  {
   "cell_type": "code",
   "execution_count": null,
   "id": "86d861f9-a582-4354-a0c0-67405ec98ad0",
   "metadata": {},
   "outputs": [],
   "source": []
  }
 ],
 "metadata": {
  "kernelspec": {
   "display_name": "Python 3 (ipykernel)",
   "language": "python",
   "name": "python3"
  },
  "language_info": {
   "codemirror_mode": {
    "name": "ipython",
    "version": 3
   },
   "file_extension": ".py",
   "mimetype": "text/x-python",
   "name": "python",
   "nbconvert_exporter": "python",
   "pygments_lexer": "ipython3",
   "version": "3.9.6"
  }
 },
 "nbformat": 4,
 "nbformat_minor": 5
}
